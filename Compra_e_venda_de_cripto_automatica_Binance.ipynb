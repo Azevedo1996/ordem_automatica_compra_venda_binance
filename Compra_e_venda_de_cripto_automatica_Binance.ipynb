{
  "nbformat": 4,
  "nbformat_minor": 0,
  "metadata": {
    "colab": {
      "provenance": [],
      "authorship_tag": "ABX9TyOOQ+nQrlqbkI4g+hx5toWY",
      "include_colab_link": true
    },
    "kernelspec": {
      "name": "python3",
      "display_name": "Python 3"
    },
    "language_info": {
      "name": "python"
    }
  },
  "cells": [
    {
      "cell_type": "markdown",
      "metadata": {
        "id": "view-in-github",
        "colab_type": "text"
      },
      "source": [
        "<a href=\"https://colab.research.google.com/github/Azevedo1996/ordem_automatica_compra_venda_binance/blob/main/Compra_e_venda_de_cripto_automatica_Binance.ipynb\" target=\"_parent\"><img src=\"https://colab.research.google.com/assets/colab-badge.svg\" alt=\"Open In Colab\"/></a>"
      ]
    },
    {
      "cell_type": "code",
      "execution_count": 2,
      "metadata": {
        "colab": {
          "base_uri": "https://localhost:8080/"
        },
        "id": "igcVcmqwcX7d",
        "outputId": "932361bd-ec85-472f-b8b7-06c10f58dab5"
      },
      "outputs": [
        {
          "output_type": "stream",
          "name": "stdout",
          "text": [
            "Looking in indexes: https://pypi.org/simple, https://us-python.pkg.dev/colab-wheels/public/simple/\n",
            "Collecting python-binance\n",
            "  Downloading python_binance-1.0.16-py2.py3-none-any.whl (65 kB)\n",
            "\u001b[2K     \u001b[90m━━━━━━━━━━━━━━━━━━━━━━━━━━━━━━━━━━━━━━━━\u001b[0m \u001b[32m65.2/65.2 KB\u001b[0m \u001b[31m2.5 MB/s\u001b[0m eta \u001b[36m0:00:00\u001b[0m\n",
            "\u001b[?25hRequirement already satisfied: six in /usr/local/lib/python3.8/dist-packages (from python-binance) (1.15.0)\n",
            "Collecting websockets\n",
            "  Downloading websockets-10.4-cp38-cp38-manylinux_2_5_x86_64.manylinux1_x86_64.manylinux_2_17_x86_64.manylinux2014_x86_64.whl (106 kB)\n",
            "\u001b[2K     \u001b[90m━━━━━━━━━━━━━━━━━━━━━━━━━━━━━━━━━━━━━━\u001b[0m \u001b[32m107.0/107.0 KB\u001b[0m \u001b[31m10.3 MB/s\u001b[0m eta \u001b[36m0:00:00\u001b[0m\n",
            "\u001b[?25hCollecting ujson\n",
            "  Downloading ujson-5.7.0-cp38-cp38-manylinux_2_17_x86_64.manylinux2014_x86_64.whl (52 kB)\n",
            "\u001b[2K     \u001b[90m━━━━━━━━━━━━━━━━━━━━━━━━━━━━━━━━━━━━━━━━\u001b[0m \u001b[32m52.8/52.8 KB\u001b[0m \u001b[31m6.9 MB/s\u001b[0m eta \u001b[36m0:00:00\u001b[0m\n",
            "\u001b[?25hCollecting dateparser\n",
            "  Downloading dateparser-1.1.7-py2.py3-none-any.whl (293 kB)\n",
            "\u001b[2K     \u001b[90m━━━━━━━━━━━━━━━━━━━━━━━━━━━━━━━━━━━━━━\u001b[0m \u001b[32m293.4/293.4 KB\u001b[0m \u001b[31m24.7 MB/s\u001b[0m eta \u001b[36m0:00:00\u001b[0m\n",
            "\u001b[?25hRequirement already satisfied: aiohttp in /usr/local/lib/python3.8/dist-packages (from python-binance) (3.8.4)\n",
            "Requirement already satisfied: requests in /usr/local/lib/python3.8/dist-packages (from python-binance) (2.25.1)\n",
            "Requirement already satisfied: frozenlist>=1.1.1 in /usr/local/lib/python3.8/dist-packages (from aiohttp->python-binance) (1.3.3)\n",
            "Requirement already satisfied: aiosignal>=1.1.2 in /usr/local/lib/python3.8/dist-packages (from aiohttp->python-binance) (1.3.1)\n",
            "Requirement already satisfied: multidict<7.0,>=4.5 in /usr/local/lib/python3.8/dist-packages (from aiohttp->python-binance) (6.0.4)\n",
            "Requirement already satisfied: charset-normalizer<4.0,>=2.0 in /usr/local/lib/python3.8/dist-packages (from aiohttp->python-binance) (3.0.1)\n",
            "Requirement already satisfied: async-timeout<5.0,>=4.0.0a3 in /usr/local/lib/python3.8/dist-packages (from aiohttp->python-binance) (4.0.2)\n",
            "Requirement already satisfied: attrs>=17.3.0 in /usr/local/lib/python3.8/dist-packages (from aiohttp->python-binance) (22.2.0)\n",
            "Requirement already satisfied: yarl<2.0,>=1.0 in /usr/local/lib/python3.8/dist-packages (from aiohttp->python-binance) (1.8.2)\n",
            "Requirement already satisfied: tzlocal in /usr/local/lib/python3.8/dist-packages (from dateparser->python-binance) (1.5.1)\n",
            "Requirement already satisfied: python-dateutil in /usr/local/lib/python3.8/dist-packages (from dateparser->python-binance) (2.8.2)\n",
            "Requirement already satisfied: regex!=2019.02.19,!=2021.8.27 in /usr/local/lib/python3.8/dist-packages (from dateparser->python-binance) (2022.6.2)\n",
            "Requirement already satisfied: pytz in /usr/local/lib/python3.8/dist-packages (from dateparser->python-binance) (2022.7.1)\n",
            "Requirement already satisfied: certifi>=2017.4.17 in /usr/local/lib/python3.8/dist-packages (from requests->python-binance) (2022.12.7)\n",
            "Requirement already satisfied: idna<3,>=2.5 in /usr/local/lib/python3.8/dist-packages (from requests->python-binance) (2.10)\n",
            "Requirement already satisfied: chardet<5,>=3.0.2 in /usr/local/lib/python3.8/dist-packages (from requests->python-binance) (4.0.0)\n",
            "Requirement already satisfied: urllib3<1.27,>=1.21.1 in /usr/local/lib/python3.8/dist-packages (from requests->python-binance) (1.24.3)\n",
            "Installing collected packages: websockets, ujson, dateparser, python-binance\n",
            "Successfully installed dateparser-1.1.7 python-binance-1.0.16 ujson-5.7.0 websockets-10.4\n"
          ]
        }
      ],
      "source": [
        "# Instalar API binance.\n",
        "!pip install python-binance"
      ]
    },
    {
      "cell_type": "code",
      "source": [
        "# importando bibliotecas\n",
        "import pandas as pd\n",
        "import binance as bn"
      ],
      "metadata": {
        "id": "sfF7lAsjdz9-"
      },
      "execution_count": 4,
      "outputs": []
    },
    {
      "cell_type": "code",
      "source": [
        "% run | Notebooks/chaves_api.ipnyb"
      ],
      "metadata": {
        "id": "xUXx6XOqeIBW"
      },
      "execution_count": null,
      "outputs": []
    },
    {
      "cell_type": "code",
      "source": [
        "# Utilizando a biblioteca do python binance\n",
        "cliente = bn.Client(api_key, api_secret)\n",
        "# Onde é api_key colocar a chave da API binance\n",
        "# Onde é api_secret colocar a senha da API binance"
      ],
      "metadata": {
        "id": "Ztv2mBWAeeci"
      },
      "execution_count": null,
      "outputs": []
    },
    {
      "cell_type": "code",
      "source": [
        "# Testar a conexão\n",
        "cliente.get_account"
      ],
      "metadata": {
        "id": "RsCgGPdxe5XX"
      },
      "execution_count": null,
      "outputs": []
    },
    {
      "cell_type": "code",
      "source": [
        "# Capturando dados\n",
        "# Utilizando Bitcoin por ser o mais conhecido\n",
        "# cliente.get_historical_klines('BTCUSDT', '1d', '1 Dec, 2018', '19 Feb 2023')\n",
        "# realizando a verificação em curto prazo.\n",
        "cliente.get_historical_klines('BTCUSDT', '1d', '3m', '30m')"
      ],
      "metadata": {
        "id": "y2VsMNMQgTME"
      },
      "execution_count": null,
      "outputs": []
    },
    {
      "cell_type": "code",
      "source": [
        "# ajustando colunas\n",
        "df = pd.DataFrame(cliente.get_historical_klines('BTCUSDT', '1d', '3m', '30m'))\n",
        "df = df.iloc[:, :2]\n",
        "df.columns = ['date_open', 'Open', 'High', 'Low', 'Close', 'Volume']\n",
        "df = df.set_index('date_open')\n",
        "df.index = pd.to_datetime(df.index, unit='ms')\n",
        "df = df.astype(float)\n",
        "df"
      ],
      "metadata": {
        "id": "eQ1lS36MgUCU"
      },
      "execution_count": null,
      "outputs": []
    },
    {
      "cell_type": "code",
      "source": [
        "# vizualizando a flutuação em dollar\n",
        "df.Open.plot()"
      ],
      "metadata": {
        "id": "7p9vDF8NhwPy"
      },
      "execution_count": null,
      "outputs": []
    },
    {
      "cell_type": "code",
      "source": [
        "from ast import Break\n",
        "# Compra ou venda\n",
        "compra = False\n",
        "retorno_acum = (df.Open.pct_chance() + 1).cumprod()- 1\n",
        "if not compra:\n",
        "  if retorno_acum[-1] < -0.002:\n",
        "    ordem = cliente.create_order('BTCUSDT', side='BUY', type='MARKET', quantity = 0.000001)\n",
        "    print ('compra')\n",
        "    compra = True\n",
        "  else:\n",
        "    print('Sem ordens de compra')\n",
        "  if compra:\n",
        "    while True:\n",
        "      df = pd.DataFrame(cliente.get_historical_klines('BTCUSDT', '1d', '3m', '30m'))\n",
        "      df = df.iloc[:, :2]\n",
        "      df.columns = ['date_open', 'Open']\n",
        "      df = df.set_index('date_open')\n",
        "      df.index = pd.to_datetime(df.index, unit='ms')\n",
        "      df = df.astype(float)\n",
        "      \n",
        "      ordem_executada = df.loc[df.index > pd.to_datetime(ordem['TransactTime'], unit='ms')]\n",
        "      if len(ordem_executada) > 0:\n",
        "        retorno_ordem_executada = (df.Open.pct_chance() + 1).cumprod()- 1\n",
        "        if retorno_ordem_executada[-1] > 0.00015 or retorno_ordem_executada < - 0.00015:\n",
        "          ordem = cliente.create_order('BTCUSDT', side='SELL', type='MARKET', quantity = 0.000001)\n",
        "          print('Venda')\n",
        "          break\n"
      ],
      "metadata": {
        "id": "0FAC6dRYh_64"
      },
      "execution_count": null,
      "outputs": []
    },
    {
      "cell_type": "code",
      "source": [],
      "metadata": {
        "id": "dkbDyZQ4mqfW"
      },
      "execution_count": null,
      "outputs": []
    }
  ]
}